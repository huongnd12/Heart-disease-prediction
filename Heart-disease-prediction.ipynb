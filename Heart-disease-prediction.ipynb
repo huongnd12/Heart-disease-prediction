{
 "cells": [
  {
   "cell_type": "markdown",
   "metadata": {},
   "source": [
    "Nowadays, the number of heart diseases is increasing regardless of gender or age. According to WHO, heart disease is the largest cause of death in the world. Of these, ischemic heart disease accounts for 16% and stroke accounts for 11% of deaths globally. Since 2000, deaths from the disease have increased the most, increasing by more than 2 million to 8.9 million deaths in 2019.\n",
    "\n",
    "Common heart diseases include blood vessel diseases such as coronary artery disease, arrhythmias and congenital heart defects, along with many other diseases.\n",
    "\n",
    "Therefore, early prediction of cardiovascular disease is considered one of the important issues in clinical data analysis. But it is difficult to accurately determine and predict early symptoms of heart disease because there are many factors such as diabetes, high blood pressure, high cholesterol, abnormal heart rhythm and many other factors. The amount of data in the healthcare industry is huge. Therefore, data mining and extracting information from this large data set is necessary to support early diagnosis and prevention of possible cardiovascular complications.\n",
    "\n",
    "In this project, I will apply basic machine learning methods (Naive bayes, K-nearest neigbors (KNN), Decision tree, Random forest, Adaboost, Gradient boost, XGBoost and Support vector machine (SVM)) to predict whether a person is likely to have heart disease based on the `Cleveland Heart Disease` dataset from the `UCI Machine Learning Repository`. The dataset contains 14 information columns which are Age, Sex, Chest-pain type, Resting Blood Pressure, Serum Cholestrol, Fasting Blood Sugar, Resting ECG, Max heart rate achieved, ST depression induced by exercise relative to res, Peak exercise ST segment, Number of major vessels (0–3) colored by flourosopy, Displays the thalassemia, Diagnosis of heart disease (0 represents patients without the disease, and 1,2,3,4 represent patients with the disease). "
   ]
  },
  {
   "cell_type": "code",
   "execution_count": 1,
   "metadata": {},
   "outputs": [],
   "source": [
    "import numpy as np\n",
    "import pandas as pd\n",
    "import matplotlib.pyplot as plt\n",
    "import seaborn as sns\n",
    "\n",
    "from sklearn.model_selection import train_test_split\n",
    "from sklearn.neighbors import KNeighborsClassifier\n",
    "from sklearn.svm import SVC\n",
    "from sklearn.tree import DecisionTreeClassifier\n",
    "from sklearn.ensemble import RandomForestClassifier, AdaBoostClassifier, GradientBoostingClassifier\n",
    "from xgboost import XGBClassifier\n",
    "from sklearn.ensemble import StackingClassifier\n",
    "from sklearn.metrics import accuracy_score\n",
    "from sklearn.naive_bayes import GaussianNB"
   ]
  },
  {
   "cell_type": "markdown",
   "metadata": {},
   "source": [
    "## 1. Read and Preprocessing data"
   ]
  },
  {
   "cell_type": "code",
   "execution_count": 2,
   "metadata": {},
   "outputs": [],
   "source": [
    "df = pd.read_csv(r\"D:\\dataset\\cleveland.csv\",\n",
    "                 names=['age','sex','cp','trestbps','chol',\n",
    "                        'fbs','restecg','thalach','exang',\n",
    "                        'oldpeak','slope','ca','thal','target'])\n",
    "df['target'] = df['target'].map({0:0, 1:1, 2:1, 3:1, 4:1})"
   ]
  },
  {
   "cell_type": "code",
   "execution_count": 3,
   "metadata": {},
   "outputs": [
    {
     "data": {
      "text/html": [
       "<div>\n",
       "<style scoped>\n",
       "    .dataframe tbody tr th:only-of-type {\n",
       "        vertical-align: middle;\n",
       "    }\n",
       "\n",
       "    .dataframe tbody tr th {\n",
       "        vertical-align: top;\n",
       "    }\n",
       "\n",
       "    .dataframe thead th {\n",
       "        text-align: right;\n",
       "    }\n",
       "</style>\n",
       "<table border=\"1\" class=\"dataframe\">\n",
       "  <thead>\n",
       "    <tr style=\"text-align: right;\">\n",
       "      <th></th>\n",
       "      <th>age</th>\n",
       "      <th>sex</th>\n",
       "      <th>cp</th>\n",
       "      <th>trestbps</th>\n",
       "      <th>chol</th>\n",
       "      <th>fbs</th>\n",
       "      <th>restecg</th>\n",
       "      <th>thalach</th>\n",
       "      <th>exang</th>\n",
       "      <th>oldpeak</th>\n",
       "      <th>slope</th>\n",
       "      <th>ca</th>\n",
       "      <th>thal</th>\n",
       "      <th>target</th>\n",
       "    </tr>\n",
       "  </thead>\n",
       "  <tbody>\n",
       "    <tr>\n",
       "      <th>0</th>\n",
       "      <td>63</td>\n",
       "      <td>1</td>\n",
       "      <td>1</td>\n",
       "      <td>145</td>\n",
       "      <td>233</td>\n",
       "      <td>1</td>\n",
       "      <td>2</td>\n",
       "      <td>150</td>\n",
       "      <td>0</td>\n",
       "      <td>2.3</td>\n",
       "      <td>3</td>\n",
       "      <td>0.0</td>\n",
       "      <td>6.0</td>\n",
       "      <td>0</td>\n",
       "    </tr>\n",
       "    <tr>\n",
       "      <th>1</th>\n",
       "      <td>67</td>\n",
       "      <td>1</td>\n",
       "      <td>4</td>\n",
       "      <td>160</td>\n",
       "      <td>286</td>\n",
       "      <td>0</td>\n",
       "      <td>2</td>\n",
       "      <td>108</td>\n",
       "      <td>1</td>\n",
       "      <td>1.5</td>\n",
       "      <td>2</td>\n",
       "      <td>3.0</td>\n",
       "      <td>3.0</td>\n",
       "      <td>1</td>\n",
       "    </tr>\n",
       "    <tr>\n",
       "      <th>2</th>\n",
       "      <td>67</td>\n",
       "      <td>1</td>\n",
       "      <td>4</td>\n",
       "      <td>120</td>\n",
       "      <td>229</td>\n",
       "      <td>0</td>\n",
       "      <td>2</td>\n",
       "      <td>129</td>\n",
       "      <td>1</td>\n",
       "      <td>2.6</td>\n",
       "      <td>2</td>\n",
       "      <td>2.0</td>\n",
       "      <td>7.0</td>\n",
       "      <td>1</td>\n",
       "    </tr>\n",
       "    <tr>\n",
       "      <th>3</th>\n",
       "      <td>37</td>\n",
       "      <td>1</td>\n",
       "      <td>3</td>\n",
       "      <td>130</td>\n",
       "      <td>250</td>\n",
       "      <td>0</td>\n",
       "      <td>0</td>\n",
       "      <td>187</td>\n",
       "      <td>0</td>\n",
       "      <td>3.5</td>\n",
       "      <td>3</td>\n",
       "      <td>0.0</td>\n",
       "      <td>3.0</td>\n",
       "      <td>0</td>\n",
       "    </tr>\n",
       "    <tr>\n",
       "      <th>4</th>\n",
       "      <td>41</td>\n",
       "      <td>0</td>\n",
       "      <td>2</td>\n",
       "      <td>130</td>\n",
       "      <td>204</td>\n",
       "      <td>0</td>\n",
       "      <td>2</td>\n",
       "      <td>172</td>\n",
       "      <td>0</td>\n",
       "      <td>1.4</td>\n",
       "      <td>1</td>\n",
       "      <td>0.0</td>\n",
       "      <td>3.0</td>\n",
       "      <td>0</td>\n",
       "    </tr>\n",
       "  </tbody>\n",
       "</table>\n",
       "</div>"
      ],
      "text/plain": [
       "   age  sex  cp  trestbps  chol  fbs  restecg  thalach  exang  oldpeak  slope  \\\n",
       "0   63    1   1       145   233    1        2      150      0      2.3      3   \n",
       "1   67    1   4       160   286    0        2      108      1      1.5      2   \n",
       "2   67    1   4       120   229    0        2      129      1      2.6      2   \n",
       "3   37    1   3       130   250    0        0      187      0      3.5      3   \n",
       "4   41    0   2       130   204    0        2      172      0      1.4      1   \n",
       "\n",
       "    ca  thal  target  \n",
       "0  0.0   6.0       0  \n",
       "1  3.0   3.0       1  \n",
       "2  2.0   7.0       1  \n",
       "3  0.0   3.0       0  \n",
       "4  0.0   3.0       0  "
      ]
     },
     "execution_count": 3,
     "metadata": {},
     "output_type": "execute_result"
    }
   ],
   "source": [
    "df.head()"
   ]
  },
  {
   "cell_type": "code",
   "execution_count": 4,
   "metadata": {},
   "outputs": [
    {
     "name": "stdout",
     "output_type": "stream",
     "text": [
      "<class 'pandas.core.frame.DataFrame'>\n",
      "RangeIndex: 303 entries, 0 to 302\n",
      "Data columns (total 14 columns):\n",
      " #   Column    Non-Null Count  Dtype  \n",
      "---  ------    --------------  -----  \n",
      " 0   age       303 non-null    int64  \n",
      " 1   sex       303 non-null    int64  \n",
      " 2   cp        303 non-null    int64  \n",
      " 3   trestbps  303 non-null    int64  \n",
      " 4   chol      303 non-null    int64  \n",
      " 5   fbs       303 non-null    int64  \n",
      " 6   restecg   303 non-null    int64  \n",
      " 7   thalach   303 non-null    int64  \n",
      " 8   exang     303 non-null    int64  \n",
      " 9   oldpeak   303 non-null    float64\n",
      " 10  slope     303 non-null    int64  \n",
      " 11  ca        299 non-null    float64\n",
      " 12  thal      301 non-null    float64\n",
      " 13  target    303 non-null    int64  \n",
      "dtypes: float64(3), int64(11)\n",
      "memory usage: 33.3 KB\n"
     ]
    }
   ],
   "source": [
    "df.info()"
   ]
  },
  {
   "cell_type": "markdown",
   "metadata": {},
   "source": [
    "`ca` and `thal` columns contain only an insignificant number of missing values which will be replaced by the mean of their columns."
   ]
  },
  {
   "cell_type": "code",
   "execution_count": 5,
   "metadata": {},
   "outputs": [],
   "source": [
    "df['ca'].fillna(df['ca'].mean(), inplace=True)\n",
    "df['thal'].fillna(df['thal'].mean(), inplace=True)"
   ]
  },
  {
   "cell_type": "markdown",
   "metadata": {},
   "source": [
    "## 2. Exploring data"
   ]
  },
  {
   "cell_type": "code",
   "execution_count": 6,
   "metadata": {},
   "outputs": [
    {
     "data": {
      "image/png": "[encoded data removed]",
      "text/plain": [
       "<Figure size 720x432 with 1 Axes>"
      ]
     },
     "metadata": {},
     "output_type": "display_data"
    }
   ],
   "source": [
    "# Examine the distribution of target vs age\n",
    "custom_params = {\"axes.spines.right\": False, \"axes.spines.top\": False}\n",
    "sns.set_theme(style=\"ticks\", rc=custom_params)\n",
    "plt.figure(figsize=(10,6))\n",
    "sns.histplot(data=df, x='age', hue='target', multiple='dodge', bins=50)\n",
    "plt.xlim(25, 100)\n",
    "plt.legend(['1','0'], title='target', loc='center right', frameon=False)\n",
    "plt.title('Variation of Age for each target class', fontdict={'size':20})\n",
    "plt.show()"
   ]
  },
  {
   "cell_type": "markdown",
   "metadata": {},
   "source": [
    "The heart disease like has a relationship with the age. Particularly, from the age of over 55, the proportion of people has heart disease and people do not have heart disease, in comparion to the age of under 55."
   ]
  },
  {
   "cell_type": "code",
   "execution_count": 7,
   "metadata": {},
   "outputs": [
    {
     "data": {
      "image/png": "[encoded data removed]",
      "text/plain": [
       "<Figure size 576x432 with 1 Axes>"
      ]
     },
     "metadata": {},
     "output_type": "display_data"
    }
   ],
   "source": [
    "font = {'size': 20}\n",
    "plt.figure(figsize=(8,6))\n",
    "sns.barplot(data=df, x='sex', y='age', hue='target')\n",
    "plt.xlim(-0.5, 1.8)\n",
    "plt.legend(loc='center right', title='target', frameon=False)\n",
    "plt.title('Distribution of age vs sex with the target class', fontdict=font)\n",
    "plt.show()"
   ]
  },
  {
   "cell_type": "markdown",
   "metadata": {},
   "source": [
    "## 3. Modelling"
   ]
  },
  {
   "cell_type": "code",
   "execution_count": 8,
   "metadata": {},
   "outputs": [],
   "source": [
    "X = df.drop(['target'], axis=1).to_numpy()\n",
    "y = df['target'].to_numpy()\n",
    "X_train, X_test, y_train, y_test = train_test_split(X, y, test_size=0.2, random_state=42)"
   ]
  },
  {
   "cell_type": "markdown",
   "metadata": {},
   "source": [
    "### 3.1. KNN Algorithm"
   ]
  },
  {
   "cell_type": "code",
   "execution_count": 25,
   "metadata": {},
   "outputs": [
    {
     "name": "stdout",
     "output_type": "stream",
     "text": [
      "Accuracy for training set for KNeighborsClassifier = 0.7603305785123967\n",
      "Accuracy for testing set for KNeighborsClassifier = 0.6885245901639344\n"
     ]
    }
   ],
   "source": [
    "knn_classifier = KNeighborsClassifier()\n",
    "knn_classifier.fit(X_train, y_train)\n",
    "\n",
    "knn_test_pred = knn_classifier.predict(X_test)\n",
    "knn_train_pred = knn_classifier.predict(X_train)\n",
    "\n",
    "knn_test_score = accuracy_score(y_test, knn_test_pred)\n",
    "print(f'Accuracy for training set for KNeighborsClassifier = {accuracy_score(y_train, knn_train_pred)}')\n",
    "print(f'Accuracy for testing set for KNeighborsClassifier = {accuracy_score(y_test, knn_test_pred)}')"
   ]
  },
  {
   "cell_type": "markdown",
   "metadata": {},
   "source": [
    "### 3.2. Support Vector Classifier"
   ]
  },
  {
   "cell_type": "code",
   "execution_count": 26,
   "metadata": {},
   "outputs": [
    {
     "name": "stdout",
     "output_type": "stream",
     "text": [
      "Accuracy for training set for SVC = 0.6611570247933884\n",
      "Accuracy for testing set for SVC = 0.6721311475409836\n"
     ]
    }
   ],
   "source": [
    "svc_classifier = SVC(random_state=42)\n",
    "svc_classifier.fit(X_train, y_train)\n",
    "\n",
    "svc_train_pred = svc_classifier.predict(X_train)\n",
    "svc_test_pred = svc_classifier.predict(X_test)\n",
    "\n",
    "svc_test_score = accuracy_score(y_test, svc_test_pred)\n",
    "print(f'Accuracy for training set for SVC = {accuracy_score(y_train, svc_train_pred)}')\n",
    "print(f'Accuracy for testing set for SVC = {accuracy_score(y_test, svc_test_pred)}')"
   ]
  },
  {
   "cell_type": "markdown",
   "metadata": {},
   "source": [
    "### 3.3. Naive Bayes"
   ]
  },
  {
   "cell_type": "code",
   "execution_count": 27,
   "metadata": {},
   "outputs": [
    {
     "name": "stdout",
     "output_type": "stream",
     "text": [
      "Accuracy for training set for Naive Bayes = 0.8471074380165289\n",
      "Accuracy for testing set for Naive Bayes = 0.8360655737704918\n"
     ]
    }
   ],
   "source": [
    "NB_classifier = GaussianNB()\n",
    "NB_classifier.fit(X_train, y_train)\n",
    "\n",
    "NB_train_pred = NB_classifier.predict(X_train)\n",
    "NB_test_pred = NB_classifier.predict(X_test)\n",
    "\n",
    "NB_test_score = accuracy_score(y_test, NB_test_pred)\n",
    "print(f'Accuracy for training set for Naive Bayes = {accuracy_score(y_train, NB_train_pred)}')\n",
    "print(f'Accuracy for testing set for Naive Bayes = {accuracy_score(y_test, NB_test_pred)}')"
   ]
  },
  {
   "cell_type": "markdown",
   "metadata": {},
   "source": [
    "### 3.4. Decision Tree"
   ]
  },
  {
   "cell_type": "code",
   "execution_count": 28,
   "metadata": {},
   "outputs": [
    {
     "name": "stdout",
     "output_type": "stream",
     "text": [
      "Accuracy for training set for Decision Tree = 1.0\n",
      "Accuracy for testing set for Decision Tree = 0.7213114754098361\n"
     ]
    }
   ],
   "source": [
    "DT_classifier = DecisionTreeClassifier(max_depth=10, min_samples_split=2)\n",
    "DT_classifier.fit(X_train, y_train)\n",
    "\n",
    "DT_train_pred = DT_classifier.predict(X_train)\n",
    "DT_test_pred = DT_classifier.predict(X_test)\n",
    "\n",
    "DT_test_score = accuracy_score(y_test, DT_test_pred)\n",
    "print(f'Accuracy for training set for Decision Tree = {accuracy_score(y_train, DT_train_pred)}')\n",
    "print(f'Accuracy for testing set for Decision Tree = {accuracy_score(y_test, DT_test_pred)}')"
   ]
  },
  {
   "cell_type": "markdown",
   "metadata": {},
   "source": [
    "### 3.5. Random Forest"
   ]
  },
  {
   "cell_type": "code",
   "execution_count": 29,
   "metadata": {},
   "outputs": [
    {
     "name": "stdout",
     "output_type": "stream",
     "text": [
      "Accuracy for training set for Random Forest = 0.9834710743801653\n",
      "Accuracy for testing set for Random Forest = 0.8032786885245902\n"
     ]
    }
   ],
   "source": [
    "RF_classifier = RandomForestClassifier(n_estimators=10,\n",
    "                                       max_depth=10,\n",
    "                                       min_samples_split=2,\n",
    "                                       random_state=42)\n",
    "RF_classifier.fit(X_train, y_train)\n",
    "\n",
    "RF_train_pred = RF_classifier.predict(X_train)\n",
    "RF_test_pred = RF_classifier.predict(X_test)\n",
    "\n",
    "RF_test_score = accuracy_score(y_test, RF_test_pred)\n",
    "print(f'Accuracy for training set for Random Forest = {accuracy_score(y_train, RF_train_pred)}')\n",
    "print(f'Accuracy for testing set for Random Forest = {accuracy_score(y_test, RF_test_pred)}')"
   ]
  },
  {
   "cell_type": "markdown",
   "metadata": {},
   "source": [
    "### 3.6. AdaBoost"
   ]
  },
  {
   "cell_type": "code",
   "execution_count": 30,
   "metadata": {},
   "outputs": [
    {
     "name": "stdout",
     "output_type": "stream",
     "text": [
      "Accuracy for training set for AdaBoost = 0.9132231404958677\n",
      "Accuracy for testing set for AdaBoost = 0.8360655737704918\n"
     ]
    }
   ],
   "source": [
    "ada_classifier = AdaBoostClassifier(n_estimators=50, learning_rate=1.0)\n",
    "ada_classifier.fit(X_train, y_train)\n",
    "\n",
    "ada_train_pred = ada_classifier.predict(X_train)\n",
    "ada_test_pred = ada_classifier.predict(X_test)\n",
    "\n",
    "ada_test_score = accuracy_score(y_test, ada_test_pred)\n",
    "print(f'Accuracy for training set for AdaBoost = {accuracy_score(y_train, ada_train_pred)}')\n",
    "print(f'Accuracy for testing set for AdaBoost = {accuracy_score(y_test, ada_test_pred)}')"
   ]
  },
  {
   "cell_type": "markdown",
   "metadata": {},
   "source": [
    "### 3.7. Gradient Boost"
   ]
  },
  {
   "cell_type": "code",
   "execution_count": 31,
   "metadata": {},
   "outputs": [
    {
     "name": "stdout",
     "output_type": "stream",
     "text": [
      "Accuracy for training set for Gradient Boost = 1.0\n",
      "Accuracy for testing set for Gradient Boost = 0.8360655737704918\n"
     ]
    }
   ],
   "source": [
    "gbm_classifier = GradientBoostingClassifier(learning_rate=1.0,\n",
    "                                            n_estimators=100,\n",
    "                                            subsample=1.0,\n",
    "                                            min_samples_split=2,\n",
    "                                            max_depth=3,\n",
    "                                            random_state=42)\n",
    "\n",
    "gbm_classifier.fit(X_train, y_train)\n",
    "\n",
    "gbm_train_pred = gbm_classifier.predict(X_train)\n",
    "gbm_test_pred = gbm_classifier.predict(X_test)\n",
    "\n",
    "gbm_test_score = accuracy_score(y_test, gbm_test_pred)\n",
    "print(f'Accuracy for training set for Gradient Boost = {accuracy_score(y_train, gbm_train_pred)}')\n",
    "print(f'Accuracy for testing set for Gradient Boost = {accuracy_score(y_test, gbm_test_pred)}')"
   ]
  },
  {
   "cell_type": "markdown",
   "metadata": {},
   "source": [
    "### 3.8. XGBoost"
   ]
  },
  {
   "cell_type": "code",
   "execution_count": 32,
   "metadata": {},
   "outputs": [
    {
     "name": "stdout",
     "output_type": "stream",
     "text": [
      "Accuracy for training set for XGBoost = 1.0\n",
      "Accuracy for testing set for XGBoost = 0.8688524590163934\n"
     ]
    }
   ],
   "source": [
    "xgb_classifier = XGBClassifier(objective='binary:logistic',\n",
    "                               seed=42,\n",
    "                               n_estimators=100)\n",
    "xgb_classifier.fit(X_train, y_train)\n",
    "\n",
    "xgb_train_pred = xgb_classifier.predict(X_train)\n",
    "xgb_test_pred = xgb_classifier.predict(X_test)\n",
    "\n",
    "xgb_test_score = accuracy_score(y_test, xgb_test_pred)\n",
    "print(f'Accuracy for training set for XGBoost = {accuracy_score(y_train, xgb_train_pred)}')\n",
    "print(f'Accuracy for testing set for XGBoost = {accuracy_score(y_test, xgb_test_pred)}')"
   ]
  },
  {
   "cell_type": "markdown",
   "metadata": {},
   "source": [
    "### 3.9. Stacking"
   ]
  },
  {
   "cell_type": "markdown",
   "metadata": {},
   "source": [
    "Algorithms are used as base models include Decision Tree, Random Forest, KNN, Gradient Boost, Adaboost, SVM.\n",
    "\n",
    "XGBoost is the meta-model of this stacking model"
   ]
  },
  {
   "cell_type": "code",
   "execution_count": 17,
   "metadata": {},
   "outputs": [],
   "source": [
    "dtc = DecisionTreeClassifier(random_state=42)\n",
    "rfc = RandomForestClassifier(random_state=42)\n",
    "knn = KNeighborsClassifier()\n",
    "gbc = GradientBoostingClassifier(random_state=42)\n",
    "adac = AdaBoostClassifier(random_state=42)\n",
    "svc = SVC(random_state=42, kernel='rbf')\n",
    "\n",
    "xgbc = XGBClassifier()"
   ]
  },
  {
   "cell_type": "code",
   "execution_count": 33,
   "metadata": {},
   "outputs": [
    {
     "name": "stdout",
     "output_type": "stream",
     "text": [
      "Accuracy for training set for Stacking = 0.9173553719008265\n",
      "Accuracy for testing set for Stacking = 0.8852459016393442\n"
     ]
    }
   ],
   "source": [
    "estimators = [('dt', dtc), ('rf', rfc), ('knn', knn), ('gb', gbc), ('ada', adac), ('svm', svc)]\n",
    "stacking_classifier = StackingClassifier(estimators=estimators,\n",
    "                                         final_estimator=xgbc)\n",
    "\n",
    "stacking_classifier.fit(X_train, y_train)\n",
    "\n",
    "stack_train_pred = stacking_classifier.predict(X_train)\n",
    "stack_test_pred = stacking_classifier.predict(X_test)\n",
    "\n",
    "stack_test_score = accuracy_score(y_test, stack_test_pred)\n",
    "print(f'Accuracy for training set for Stacking = {accuracy_score(y_train, stack_train_pred)}')\n",
    "print(f'Accuracy for testing set for Stacking = {accuracy_score(y_test, stack_test_pred)}')"
   ]
  },
  {
   "cell_type": "code",
   "execution_count": 51,
   "metadata": {},
   "outputs": [],
   "source": [
    "test_set_accuracy = [knn_test_score, svc_test_score, NB_test_score, DT_test_score, RF_test_score, ada_test_score, gbm_test_score, xgb_test_score, stack_test_score]\n",
    "labels = ['KNN','SVC','Naive Bayes','Decision Tree','Random Forest','AdaBoost','Gradient Boost','XGBoost','Stacking']\n",
    "\n",
    "accuracy_score_df = pd.DataFrame(np.hstack((np.array(labels).reshape(-1,1), np.round(np.array(test_set_accuracy).reshape(-1, 1), 2))),\n",
    "                                 columns=['name','score'])\n",
    "\n"
   ]
  },
  {
   "cell_type": "code",
   "execution_count": 52,
   "metadata": {},
   "outputs": [],
   "source": [
    "accuracy_score_df['score'] = pd.to_numeric(accuracy_score_df['score'])"
   ]
  },
  {
   "cell_type": "code",
   "execution_count": 102,
   "metadata": {},
   "outputs": [
    {
     "data": {
      "image/png": "[encoded data removed]",
      "text/plain": [
       "<Figure size 1296x432 with 1 Axes>"
      ]
     },
     "metadata": {},
     "output_type": "display_data"
    }
   ],
   "source": [
    "sns.set_theme()\n",
    "fig, ax = plt.subplots(figsize=(18,6))\n",
    "sns.pointplot(data=accuracy_score_df, x='name', y='score')\n",
    "for i, v in enumerate(test_set_accuracy):\n",
    "    ax.annotate(str(round(v*100)), xy=(i, v), xytext=(-10,10), textcoords='offset points')\n",
    "ax.set_ylim(0, 1)\n",
    "ax.set_yticks([])\n",
    "ax.set_ylabel('Accuracy %', fontdict={'size':15})\n",
    "ax.spines['left'].set_visible(False)\n",
    "ax.set_xticklabels(labels, fontdict={'size':14})\n",
    "ax.set_xlabel('')\n",
    "ax.set_title('Heart disease prediction using various machine learning models', fontdict={'family':'fantasy','size':22})\n",
    "plt.show()"
   ]
  }
 ],
 "metadata": {
  "kernelspec": {
   "display_name": "base",
   "language": "python",
   "name": "python3"
  },
  "language_info": {
   "codemirror_mode": {
    "name": "ipython",
    "version": 3
   },
   "file_extension": ".py",
   "mimetype": "text/x-python",
   "name": "python",
   "nbconvert_exporter": "python",
   "pygments_lexer": "ipython3",
   "version": "3.9.7"
  },
  "orig_nbformat": 4
 },
 "nbformat": 4,
 "nbformat_minor": 2
}
